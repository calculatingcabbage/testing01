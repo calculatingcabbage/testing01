{
 "cells": [
  {
   "cell_type": "code",
   "execution_count": 8,
   "metadata": {},
   "outputs": [],
   "source": [
    "import mysql.connector\n",
    "import random\n",
    "import pandas as pd\n",
    "from unicodedata import category\n"
   ]
  },
  {
   "cell_type": "code",
   "execution_count": 9,
   "metadata": {},
   "outputs": [],
   "source": [
    "#mydb = mysql.connector.connect(\n",
    "#    host = \"127.0.0.1\",\n",
    "#    user = \"root\",\n",
    "#    password = \"seansean17\",\n",
    "#    database = \"livs_drinks_db\"\n",
    "#)\n",
    "\n",
    "mydb = mysql.connector.connect(\n",
    "    host = \"127.0.0.1\",\n",
    "    user = \"root\",\n",
    "    password = \"seansean17\",\n",
    "    database = \"testing01\"\n",
    ")\n"
   ]
  },
  {
   "cell_type": "code",
   "execution_count": 10,
   "metadata": {},
   "outputs": [
    {
     "data": {
      "text/plain": [
       "True"
      ]
     },
     "execution_count": 10,
     "metadata": {},
     "output_type": "execute_result"
    }
   ],
   "source": [
    "mycursor = mydb.cursor(buffered=True)\n",
    "\n",
    "sql = \"Select * from product\"\n",
    "\n",
    "mycursor.execute(sql)\n",
    "r = mycursor.fetchall()\n",
    "\n",
    "for x in r:\n",
    "    print(x)\n",
    "\n",
    "mycursor.close()\n"
   ]
  },
  {
   "cell_type": "code",
   "execution_count": 18,
   "metadata": {},
   "outputs": [
    {
     "name": "stdout",
     "output_type": "stream",
     "text": [
      "Kilback Inc\n"
     ]
    }
   ],
   "source": [
    "dfCompName = pd.read_csv(\"./companyNames.csv\")\n",
    "dfCountry = pd.read_csv(\"./countries.csv\")\n",
    "\n",
    "#selects a random row in a df\n",
    "print(dfCompName.sample().to_string(buf=None,header=False,index=False))\n",
    "#print(dfCountry.sample())"
   ]
  },
  {
   "cell_type": "code",
   "execution_count": 29,
   "metadata": {},
   "outputs": [
    {
     "name": "stdout",
     "output_type": "stream",
     "text": [
      "Moen, Bashirian and Steuber\n",
      "select productName from product where \"Moen, Bashirian and Steuber\" = productName\n",
      "None\n",
      "nope\n"
     ]
    }
   ],
   "source": [
    "mycursor = mydb.cursor(buffered=True)\n",
    "\n",
    "compname = dfCompName.sample().to_string(header=False,index=False)\n",
    "\n",
    "print(compname)\n",
    "    \n",
    "sqlCheckComp = 'select productName from product where \"'+compname+'\" = productName'\n",
    "\n",
    "print(sqlCheckComp)\n",
    "mycursor.execute(sqlCheckComp)\n",
    "r = str(mycursor.fetchone())\n",
    "\n",
    "print(r)\n",
    "\n",
    "\n",
    "\n",
    "#need to find out why running through a for loop makes it a string while it doesn't do it from the fetch\n",
    "#for x in r:\n",
    "#    print(x)\n",
    "if r == compname:\n",
    "    print(\"worked\")\n",
    "else:\n",
    "    print(\"nope\")\n"
   ]
  },
  {
   "cell_type": "code",
   "execution_count": 41,
   "metadata": {},
   "outputs": [
    {
     "name": "stdout",
     "output_type": "stream",
     "text": [
      "Schmitt and Sons\n",
      "('Schmitt and Sons',)\n",
      "nope\n",
      "('Schmitt and Sons', 29, 'Cameroon', 5, 1)\n",
      "Emmerich Bode\n",
      "('Emmerich Bode',)\n",
      "nope\n",
      "('Emmerich Bode', 81, 'Slovakia', 2, 2)\n",
      "Cronin, Becker and Carter\n",
      "('Cronin, Becker and Carter',)\n",
      "nope\n",
      "('Cronin, Becker and Carter', 106, 'Sudan', 5, 1)\n"
     ]
    }
   ],
   "source": [
    "mycursor = mydb.cursor(buffered=True)\n",
    "\n",
    "recordNum = 3\n",
    "x = 0\n",
    "while x < recordNum:\n",
    "    compname = dfCompName.sample().to_string(header=False,index=False)\n",
    "    cost = random.choice(range(10,200))\n",
    "    country_origin = dfCountry.sample().to_string(header=False,index=False)\n",
    "    category_type = random.choice(range(1,6))\n",
    "    bottle_size = random.choice(range(1,6))\n",
    "    \n",
    "    print(compname)\n",
    "    \n",
    "    \n",
    "    sqlCheckComp = 'select productName from product where \"'+compname+'\" = productName'\n",
    "    mycursor.execute(sqlCheckComp)\n",
    "    r = mycursor.fetchone()\n",
    "    \n",
    "    print(r)\n",
    "\n",
    "    if r == compname:\n",
    "        print(\"worked\")\n",
    "        sqlGetCountry = 'select countryOrgin from product where \"'+r+'\" = productName'  \n",
    "        mycursor.execute(sqlGetCountry)\n",
    "        c = str(mycursor.fetchone()[0])\n",
    "        print(c)\n",
    "        sqlinsert = \"INSERT INTO product (productName, cost, countryOrgin, categoryID, sizeID) VALUES (%s, %s, %s, %s, %s)\"\n",
    "        val = (compname, cost, c, category_type, bottle_size)  \n",
    "        mycursor.execute(sqlinsert, val)\n",
    "        mydb.commit()\n",
    "    else:\n",
    "        print(\"nope\")    \n",
    "        sqlinsert = \"INSERT INTO product (productName, cost, countryOrgin, categoryID, sizeID) VALUES (%s, %s, %s, %s, %s)\"\n",
    "        val = (compname, cost, country_origin, category_type, bottle_size)\n",
    "        print(val)\n",
    "        mycursor.execute(sqlinsert, val)\n",
    "        mydb.commit()\n",
    "    \n",
    "    x += 1"
   ]
  }
 ],
 "metadata": {
  "kernelspec": {
   "display_name": "Python 3.10.2 64-bit",
   "language": "python",
   "name": "python3"
  },
  "language_info": {
   "codemirror_mode": {
    "name": "ipython",
    "version": 3
   },
   "file_extension": ".py",
   "mimetype": "text/x-python",
   "name": "python",
   "nbconvert_exporter": "python",
   "pygments_lexer": "ipython3",
   "version": "3.10.2"
  },
  "orig_nbformat": 4,
  "vscode": {
   "interpreter": {
    "hash": "34858fb4650e4f08c5273abdf3b94d08eabaf2da6ad278d4e34e857f9bde1bd0"
   }
  }
 },
 "nbformat": 4,
 "nbformat_minor": 2
}

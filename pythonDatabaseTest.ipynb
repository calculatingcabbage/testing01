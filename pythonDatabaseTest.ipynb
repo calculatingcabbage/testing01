{
 "cells": [
  {
   "cell_type": "code",
   "execution_count": 77,
   "metadata": {},
   "outputs": [],
   "source": [
    "import mysql.connector\n"
   ]
  },
  {
   "cell_type": "code",
   "execution_count": 78,
   "metadata": {},
   "outputs": [],
   "source": [
    "mydb = mysql.connector.connect(\n",
    "    host = \"127.0.0.1\",\n",
    "    user = \"root\",\n",
    "    password = \"seansean17\",\n",
    "    database = \"testing01\"\n",
    ")"
   ]
  },
  {
   "cell_type": "code",
   "execution_count": 79,
   "metadata": {},
   "outputs": [
    {
     "name": "stdout",
     "output_type": "stream",
     "text": [
      "(1, 'Haku Vodka', 50.0, 'Japan', 1, 3)\n",
      "(2, 'Jameson', 55.0, 'Ireland', 5, 3)\n",
      "(3, 'Johnny Walker', 50.0, 'Scotland', 2, 6)\n",
      "(4, 'Black Gin', 100.0, 'New Zealand', 3, 6)\n",
      "(5, 'Cafe Patron', 75.0, 'Mexico', 4, 2)\n"
     ]
    }
   ],
   "source": [
    "mycursor = mydb.cursor()\n",
    "\n",
    "sql = \"Select * from product\"\n",
    "\n",
    "mycursor.execute(sql)\n",
    "r = mycursor.fetchall()\n",
    "\n",
    "for x in r:\n",
    "    print(x)\n",
    "\n",
    "#mycursor.close()\n"
   ]
  },
  {
   "cell_type": "code",
   "execution_count": 81,
   "metadata": {},
   "outputs": [
    {
     "name": "stdout",
     "output_type": "stream",
     "text": [
      "insert into alcoholCategory (category) values (\"Bourbon\");\n",
      "1 Record added\n"
     ]
    }
   ],
   "source": [
    "#mycursor = mydb.cursor()\n",
    "\n",
    "sql = 'insert into alcoholCategory (category) values (\"Bourbon\");'\n",
    "#val = (\"Bourbon\")\n",
    "print(sql)\n",
    "\n",
    "mycursor.execute(sql)\n",
    "mydb.commit()\n",
    "\n",
    "print(mycursor.rowcount, \"Record added\")"
   ]
  }
 ],
 "metadata": {
  "kernelspec": {
   "display_name": "Python 3.10.2 64-bit",
   "language": "python",
   "name": "python3"
  },
  "language_info": {
   "codemirror_mode": {
    "name": "ipython",
    "version": 3
   },
   "file_extension": ".py",
   "mimetype": "text/x-python",
   "name": "python",
   "nbconvert_exporter": "python",
   "pygments_lexer": "ipython3",
   "version": "3.10.2"
  },
  "orig_nbformat": 4,
  "vscode": {
   "interpreter": {
    "hash": "34858fb4650e4f08c5273abdf3b94d08eabaf2da6ad278d4e34e857f9bde1bd0"
   }
  }
 },
 "nbformat": 4,
 "nbformat_minor": 2
}

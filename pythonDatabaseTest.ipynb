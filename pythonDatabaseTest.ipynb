{
 "cells": [
  {
   "cell_type": "code",
   "execution_count": 4,
   "metadata": {},
   "outputs": [],
   "source": [
    "import mysql.connector\n",
    "import random\n",
    "import pandas as pd\n"
   ]
  },
  {
   "cell_type": "code",
   "execution_count": 2,
   "metadata": {},
   "outputs": [],
   "source": [
    "#mydb = mysql.connector.connect(\n",
    "#    host = \"127.0.0.1\",\n",
    "#    user = \"root\",\n",
    "#    password = \"seansean17\",\n",
    "#    database = \"livs_drinks_db\"\n",
    "#)\n",
    "\n",
    "mydb = mysql.connector.connect(\n",
    "    host = \"127.0.0.1\",\n",
    "    user = \"root\",\n",
    "    password = \"seansean17\",\n",
    "    database = \"testing01\"\n",
    ")\n"
   ]
  },
  {
   "cell_type": "code",
   "execution_count": 3,
   "metadata": {},
   "outputs": [
    {
     "name": "stdout",
     "output_type": "stream",
     "text": [
      "(1, 'Haku Vodka', 50.0, 'Japan', 1, 3)\n",
      "(2, 'Jameson', 55.0, 'Ireland', 5, 3)\n",
      "(3, 'Johnny Walker', 50.0, 'Scotland', 2, 6)\n",
      "(4, 'Black Gin', 100.0, 'New Zealand', 3, 6)\n",
      "(5, 'Cafe Patron', 75.0, 'Mexico', 4, 2)\n"
     ]
    }
   ],
   "source": [
    "mycursor = mydb.cursor()\n",
    "\n",
    "sql = \"Select * from product\"\n",
    "\n",
    "mycursor.execute(sql)\n",
    "r = mycursor.fetchall()\n",
    "\n",
    "for x in r:\n",
    "    print(x)\n",
    "\n",
    "#mycursor.close()\n"
   ]
  },
  {
   "cell_type": "code",
   "execution_count": 41,
   "metadata": {},
   "outputs": [
    {
     "name": "stdout",
     "output_type": "stream",
     "text": [
      "Kuhlman and Sons\n"
     ]
    }
   ],
   "source": [
    "dfCompName = pd.read_csv(\"./companyNames.csv\")\n",
    "dfCountry = pd.read_csv(\"./countries.csv\")\n",
    "\n",
    "#selects a random row in a df\n",
    "print(dfCompName.sample().to_string(buf=None,header=False,index=False))\n",
    "#print(dfCountry.sample())"
   ]
  },
  {
   "cell_type": "code",
   "execution_count": 81,
   "metadata": {},
   "outputs": [
    {
     "name": "stdout",
     "output_type": "stream",
     "text": [
      "insert into alcoholCategory (category) values (\"Bourbon\");\n",
      "1 Record added\n"
     ]
    }
   ],
   "source": [
    "#mycursor = mydb.cursor()\n",
    "\n",
    "sql = 'insert into alcoholCategory (category) values (\"Bourbon\");'\n",
    "#val = (\"Bourbon\")\n",
    "print(sql)\n",
    "\n",
    "mycursor.execute(sql)\n",
    "mydb.commit()\n",
    "\n",
    "print(mycursor.rowcount, \"Record added\")"
   ]
  },
  {
   "cell_type": "code",
   "execution_count": 44,
   "metadata": {},
   "outputs": [
    {
     "name": "stdout",
     "output_type": "stream",
     "text": [
      "('Beatty Stehr', 77, 'Estonia', 3, 3)\n",
      "('Tromp Inc', 62, 'Bhutan', 1, 5)\n",
      "('Auer Cartwright', 137, 'Sierra Leone', 4, 4)\n",
      "('Bosco LLC', 103, 'Djibouti', 2, 5)\n",
      "('Konopelski, Robel and Parisian', 136, 'Tanzania', 3, 1)\n",
      "('Price, Dietrich and Satterfield', 124, 'Iran', 3, 2)\n",
      "('Zemlak Morar', 76, 'Ecuador', 2, 5)\n",
      "('Stamm LLC', 180, 'Philippines', 1, 4)\n",
      "('Okuneva, Botsford and Green', 182, 'Grenada', 4, 3)\n",
      "('Ebert, Will and Parisian', 44, 'Guadeloupe', 2, 2)\n"
     ]
    }
   ],
   "source": [
    "#names = (\"Big Tingz\", \"Someone new\", \"Top Boy\", \"Another name\", \"Another drunk idiot\")\n",
    "#countrys = (\"Australia\", \"New Zealand\", \"England\", \"Germany\", \"Japan\", \"America\")\n",
    "\n",
    "recordNum = 10\n",
    "x = 0\n",
    "while x < recordNum:\n",
    "    sql = \"INSERT INTO product (productName, cost, countryOrgin, categoryID, sizeID) VALUES (%s, %s, %s, %s, %s)\"\n",
    "    val = (dfCompName.sample().to_string(header=False,index=False), random.choice(range(10,200)) ,dfCountry.sample().to_string(header=False,index=False), random.choice(range(1,5)), random.choice(range(1,6)))\n",
    "    print(val)\n",
    "\n",
    "    mycursor.execute(sql, val)\n",
    "    mydb.commit()\n",
    "    x = 1+x"
   ]
  }
 ],
 "metadata": {
  "kernelspec": {
   "display_name": "Python 3.10.2 64-bit",
   "language": "python",
   "name": "python3"
  },
  "language_info": {
   "codemirror_mode": {
    "name": "ipython",
    "version": 3
   },
   "file_extension": ".py",
   "mimetype": "text/x-python",
   "name": "python",
   "nbconvert_exporter": "python",
   "pygments_lexer": "ipython3",
   "version": "3.10.2"
  },
  "orig_nbformat": 4,
  "vscode": {
   "interpreter": {
    "hash": "34858fb4650e4f08c5273abdf3b94d08eabaf2da6ad278d4e34e857f9bde1bd0"
   }
  }
 },
 "nbformat": 4,
 "nbformat_minor": 2
}

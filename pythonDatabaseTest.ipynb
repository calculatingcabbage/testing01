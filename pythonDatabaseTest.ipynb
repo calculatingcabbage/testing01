{
 "cells": [
  {
   "cell_type": "code",
   "execution_count": null,
   "metadata": {},
   "outputs": [],
   "source": [
    "import mysql.connector\n"
   ]
  },
  {
   "cell_type": "code",
   "execution_count": null,
   "metadata": {},
   "outputs": [],
   "source": [
    "mydb = mysql.connector.connect(\n",
    "    host = \"\",\n",
    "    user = \"\",\n",
    "    password = \"\",\n",
    "    database = \"\"\n",
    ")"
   ]
  }
 ],
 "metadata": {
  "kernelspec": {
   "display_name": "Python 3.10.2 64-bit",
   "language": "python",
   "name": "python3"
  },
  "language_info": {
   "name": "python",
   "version": "3.10.2"
  },
  "orig_nbformat": 4,
  "vscode": {
   "interpreter": {
    "hash": "34858fb4650e4f08c5273abdf3b94d08eabaf2da6ad278d4e34e857f9bde1bd0"
   }
  }
 },
 "nbformat": 4,
 "nbformat_minor": 2
}

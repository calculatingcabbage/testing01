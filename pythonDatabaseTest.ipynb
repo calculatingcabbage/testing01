{
 "cells": [
  {
   "cell_type": "code",
   "execution_count": 106,
   "metadata": {},
   "outputs": [],
   "source": [
    "import mysql.connector\n",
    "import random\n",
    "import pandas as pd\n",
    "from unicodedata import category\n"
   ]
  },
  {
   "cell_type": "code",
   "execution_count": 101,
   "metadata": {},
   "outputs": [],
   "source": [
    "#mydb = mysql.connector.connect(\n",
    "#    host = \"127.0.0.1\",\n",
    "#    user = \"root\",\n",
    "#    password = \"seansean17\",\n",
    "#    database = \"livs_drinks_db\"\n",
    "#)\n",
    "\n",
    "mydb = mysql.connector.connect(\n",
    "    host = \"127.0.0.1\",\n",
    "    user = \"root\",\n",
    "    password = \"seansean17\",\n",
    "    database = \"testing01\"\n",
    ")\n"
   ]
  },
  {
   "cell_type": "code",
   "execution_count": null,
   "metadata": {},
   "outputs": [],
   "source": [
    "mycursor = mydb.cursor(buffered=True)\n",
    "\n",
    "sql = \"Select * from product\"\n",
    "\n",
    "mycursor.execute(sql)\n",
    "r = mycursor.fetchall()\n",
    "\n",
    "for x in r:\n",
    "    print(x)\n",
    "\n",
    "mycursor.close()\n"
   ]
  },
  {
   "cell_type": "code",
   "execution_count": 83,
   "metadata": {},
   "outputs": [
    {
     "name": "stdout",
     "output_type": "stream",
     "text": [
      "Hilll Weissnat\n"
     ]
    }
   ],
   "source": [
    "dfCompName = pd.read_csv(\"./companyNames.csv\")\n",
    "dfCountry = pd.read_csv(\"./countries.csv\")\n",
    "\n",
    "#selects a random row in a df\n",
    "print(dfCompName.sample().to_string(buf=None,header=False,index=False))\n",
    "#print(dfCountry.sample())"
   ]
  },
  {
   "cell_type": "code",
   "execution_count": 154,
   "metadata": {},
   "outputs": [
    {
     "name": "stdout",
     "output_type": "stream",
     "text": [
      "Beatty Stehr\n",
      "select productName from product where \"Beatty Stehr\" = productName\n",
      "Beatty Stehr\n",
      "worked\n"
     ]
    }
   ],
   "source": [
    "mycursor = mydb.cursor(buffered=True)\n",
    "\n",
    "compname = dfCompName.sample().to_string(header=False,index=False)\n",
    "\n",
    "print(compname)\n",
    "    \n",
    "sqlCheckComp = 'select productName from product where \"'+compname+'\" = productName'\n",
    "\n",
    "print(sqlCheckComp)\n",
    "mycursor.execute(sqlCheckComp)\n",
    "r = mycursor.fetchone()\n",
    "\n",
    "for x in r:\n",
    "    print(x)\n",
    "\n",
    "    if x == compname:\n",
    "        print(\"worked\")\n",
    "    else:\n",
    "        print(\"nope\")\n"
   ]
  },
  {
   "cell_type": "code",
   "execution_count": 146,
   "metadata": {},
   "outputs": [
    {
     "name": "stdout",
     "output_type": "stream",
     "text": [
      "Feeney Dare\n",
      "('Feeney Dare',)\n",
      "nope\n"
     ]
    }
   ],
   "source": [
    "mycursor = mydb.cursor(buffered=True)\n",
    "\n",
    "recordNum = 1\n",
    "x = 0\n",
    "while x < recordNum:\n",
    "    compname = dfCompName.sample().to_string(header=False,index=False)\n",
    "    cost = random.choice(range(10,200))\n",
    "    country_origin = dfCountry.sample().to_string(header=False,index=False)\n",
    "    category_type = random.choice(range(1,6))\n",
    "    bottle_size = random.choice(range(1,6))\n",
    "    \n",
    "    print(compname)\n",
    "    \n",
    "    \n",
    "    sqlCheckComp = 'select productName from product where \"'+compname+'\" = productName'\n",
    "    mycursor.execute(sqlCheckComp)\n",
    "    r = mycursor.fetchone()\n",
    "    \n",
    "    print(r)\n",
    "    \n",
    "    if r == compname:\n",
    "        print(\"worked\")\n",
    "    else:\n",
    "        print(\"nope\")\n",
    "        #sqlCheckComp = 'select countryOrgin from product where '            \n",
    "    \n",
    "    \n",
    "    \n",
    "    \n",
    "    \n",
    "    \n",
    "    \n",
    "    \n",
    "    \n",
    "    \n",
    "    #sqlinsert = \"INSERT INTO product (productName, cost, countryOrgin, categoryID, sizeID) VALUES (%s, %s, %s, %s, %s)\"\n",
    "    #val = (compname, cost, country_origin, category_type, bottle_size)\n",
    "    #print(val)\n",
    "\n",
    "\n",
    "\n",
    "\n",
    "    #mycursor.execute(sqlinsert, val)\n",
    "    #mydb.commit()\n",
    "    x = 1+x"
   ]
  }
 ],
 "metadata": {
  "kernelspec": {
   "display_name": "Python 3.10.2 64-bit",
   "language": "python",
   "name": "python3"
  },
  "language_info": {
   "codemirror_mode": {
    "name": "ipython",
    "version": 3
   },
   "file_extension": ".py",
   "mimetype": "text/x-python",
   "name": "python",
   "nbconvert_exporter": "python",
   "pygments_lexer": "ipython3",
   "version": "3.10.2"
  },
  "orig_nbformat": 4,
  "vscode": {
   "interpreter": {
    "hash": "34858fb4650e4f08c5273abdf3b94d08eabaf2da6ad278d4e34e857f9bde1bd0"
   }
  }
 },
 "nbformat": 4,
 "nbformat_minor": 2
}

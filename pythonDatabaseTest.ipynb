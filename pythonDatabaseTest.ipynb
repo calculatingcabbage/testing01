{
 "cells": [
  {
   "cell_type": "code",
   "execution_count": 9,
   "metadata": {},
   "outputs": [],
   "source": [
    "import mysql.connector\n",
    "import random\n"
   ]
  },
  {
   "cell_type": "code",
   "execution_count": 2,
   "metadata": {},
   "outputs": [],
   "source": [
    "mydb = mysql.connector.connect(\n",
    "    host = \"127.0.0.1\",\n",
    "    user = \"root\",\n",
    "    password = \"seansean17\",\n",
    "    database = \"livs_drinks_db\"\n",
    ")"
   ]
  },
  {
   "cell_type": "code",
   "execution_count": 7,
   "metadata": {},
   "outputs": [
    {
     "name": "stdout",
     "output_type": "stream",
     "text": [
      "(1, 'Haku Vodka', 55.0, 'Japan', 1, 3)\n",
      "(2, 'Jameson', 55.0, 'Ireland', 5, 3)\n",
      "(3, 'Johnny Walker', 50.0, 'Scotland', 2, 6)\n",
      "(4, 'Black Gin', 100.0, 'New Zealand', 3, 6)\n",
      "(5, 'Cafe Patron', 75.0, 'Mexico', 4, 2)\n",
      "(6, 'Haku Vodka', 50.0, 'Japan', 1, 3)\n",
      "(7, 'Jameson', 55.0, 'Ireland', 5, 3)\n",
      "(8, 'Johnny Walker', 50.0, 'Scotland', 2, 6)\n",
      "(9, 'Black Gin', 100.0, 'New Zealand', 3, 6)\n",
      "(10, 'Cafe Patron', 75.0, 'Mexico', 4, 2)\n",
      "(11, 'Big Tingz', 50.0, 'Australia', 1, 3)\n"
     ]
    }
   ],
   "source": [
    "mycursor = mydb.cursor()\n",
    "\n",
    "sql = \"Select * from product\"\n",
    "\n",
    "mycursor.execute(sql)\n",
    "r = mycursor.fetchall()\n",
    "\n",
    "for x in r:\n",
    "    print(x)\n",
    "\n",
    "#mycursor.close()\n"
   ]
  },
  {
   "cell_type": "code",
   "execution_count": 81,
   "metadata": {},
   "outputs": [
    {
     "name": "stdout",
     "output_type": "stream",
     "text": [
      "insert into alcoholCategory (category) values (\"Bourbon\");\n",
      "1 Record added\n"
     ]
    }
   ],
   "source": [
    "#mycursor = mydb.cursor()\n",
    "\n",
    "sql = 'insert into alcoholCategory (category) values (\"Bourbon\");'\n",
    "#val = (\"Bourbon\")\n",
    "print(sql)\n",
    "\n",
    "mycursor.execute(sql)\n",
    "mydb.commit()\n",
    "\n",
    "print(mycursor.rowcount, \"Record added\")"
   ]
  },
  {
   "cell_type": "code",
   "execution_count": 26,
   "metadata": {},
   "outputs": [
    {
     "name": "stdout",
     "output_type": "stream",
     "text": [
      "('Another name', 64, 'Australia', 4, 3)\n",
      "('Someone new', 89, 'America', 3, 4)\n",
      "('Big Tingz', 58, 'New Zealand', 4, 4)\n",
      "('Big Tingz', 81, 'Germany', 2, 5)\n",
      "('Someone new', 123, 'England', 3, 3)\n",
      "('Top Boy', 119, 'Australia', 1, 1)\n",
      "('Top Boy', 115, 'Australia', 4, 3)\n",
      "('Another name', 119, 'Australia', 3, 2)\n",
      "('Another drunk idiot', 86, 'America', 1, 3)\n",
      "('Another drunk idiot', 123, 'America', 2, 4)\n"
     ]
    }
   ],
   "source": [
    "names = (\"Big Tingz\", \"Someone new\", \"Top Boy\", \"Another name\", \"Another drunk idiot\")\n",
    "countrys = (\"Australia\", \"New Zealand\", \"England\", \"Germany\", \"Japan\", \"America\")\n",
    "\n",
    "recordNum = 10\n",
    "x = 0\n",
    "while x < recordNum:\n",
    "    sql = \"INSERT INTO product (productName, cost, countryOrgin, categoryID, sizeID) VALUES (%s, %s, %s, %s, %s)\"\n",
    "    val = (random.choice(names), random.choice(range(10,200)) ,random.choice(countrys), random.choice(range(1,5)), random.choice(range(1,6)))\n",
    "    print(val)\n",
    "\n",
    "    mycursor.execute(sql, val)\n",
    "    mydb.commit()\n",
    "    x = 1+x"
   ]
  }
 ],
 "metadata": {
  "kernelspec": {
   "display_name": "Python 3.10.5 64-bit",
   "language": "python",
   "name": "python3"
  },
  "language_info": {
   "codemirror_mode": {
    "name": "ipython",
    "version": 3
   },
   "file_extension": ".py",
   "mimetype": "text/x-python",
   "name": "python",
   "nbconvert_exporter": "python",
   "pygments_lexer": "ipython3",
   "version": "3.10.5"
  },
  "orig_nbformat": 4,
  "vscode": {
   "interpreter": {
    "hash": "26de051ba29f2982a8de78e945f0abaf191376122a1563185a90213a26c5da77"
   }
  }
 },
 "nbformat": 4,
 "nbformat_minor": 2
}
